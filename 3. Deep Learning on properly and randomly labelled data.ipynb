{
  "nbformat": 4,
  "nbformat_minor": 0,
  "metadata": {
    "kernelspec": {
      "display_name": "Python 3",
      "language": "python",
      "name": "python3"
    },
    "language_info": {
      "codemirror_mode": {
        "name": "ipython",
        "version": 3
      },
      "file_extension": ".py",
      "mimetype": "text/x-python",
      "name": "python",
      "nbconvert_exporter": "python",
      "pygments_lexer": "ipython3",
      "version": "3.7.3"
    },
    "colab": {
      "name": "3. Deep learning on properly and randomly labelled data.ipynb",
      "provenance": [],
      "include_colab_link": true
    },
    "accelerator": "GPU"
  },
  "cells": [
    {
      "cell_type": "markdown",
      "metadata": {
        "id": "view-in-github",
        "colab_type": "text"
      },
      "source": [
        "<a href=\"https://colab.research.google.com/github/guru3/ML-Insights/blob/master/3.%20Deep%20Learning%20on%20properly%20and%20randomly%20labelled%20data.ipynb\" target=\"_parent\"><img src=\"https://colab.research.google.com/assets/colab-badge.svg\" alt=\"Open In Colab\"/></a>"
      ]
    },
    {
      "cell_type": "markdown",
      "metadata": {
        "id": "XxKo_uoLEc1n",
        "colab_type": "text"
      },
      "source": [
        "### We are going to train neural networks on properly labelled data as well as data randomly labelled! From what I understand about neural network, if network is appropriately big enough, network would learn a mapping for that data too! However, given the lack of structure in how the labels are assigned, we want to poke upon if there is different in convergence timings for both datasets!"
      ]
    },
    {
      "cell_type": "code",
      "metadata": {
        "id": "FHCdF7wUEc1p",
        "colab_type": "code",
        "colab": {
          "base_uri": "https://localhost:8080/",
          "height": 34
        },
        "outputId": "f7b9443f-4487-4b4b-ca5d-3f59dfd6e7d6"
      },
      "source": [
        "%matplotlib inline\n",
        "\n",
        "from keras.datasets import mnist\n",
        "import keras\n",
        "import numpy as np\n",
        "import matplotlib.pyplot as plt\n",
        "from keras.models import Sequential\n",
        "from keras.layers import Dense, Flatten\n",
        "from keras.layers import Conv2D, MaxPooling2D"
      ],
      "execution_count": 1,
      "outputs": [
        {
          "output_type": "stream",
          "text": [
            "Using TensorFlow backend.\n"
          ],
          "name": "stderr"
        }
      ]
    },
    {
      "cell_type": "code",
      "metadata": {
        "id": "9IfHDxlGEc1z",
        "colab_type": "code",
        "colab": {}
      },
      "source": [
        "(x_train_raw, y_train_raw), (x_test_raw, y_test_raw) = mnist.load_data()"
      ],
      "execution_count": 0,
      "outputs": []
    },
    {
      "cell_type": "code",
      "metadata": {
        "id": "F9DlQj2aEc17",
        "colab_type": "code",
        "colab": {
          "base_uri": "https://localhost:8080/",
          "height": 265
        },
        "outputId": "49cdbcb8-8b8a-45ed-b3f9-5fb377452db2"
      },
      "source": [
        "#Let's look at one example\n",
        "_ = plt.imshow(x_train_raw[0])"
      ],
      "execution_count": 3,
      "outputs": [
        {
          "output_type": "display_data",
          "data": {
            "image/png": "[encoded data removed]",
            "text/plain": [
              "<Figure size 432x288 with 1 Axes>"
            ]
          },
          "metadata": {
            "tags": [],
            "needs_background": "light"
          }
        }
      ]
    },
    {
      "cell_type": "code",
      "metadata": {
        "id": "tTZaa-GREc2B",
        "colab_type": "code",
        "colab": {
          "base_uri": "https://localhost:8080/",
          "height": 34
        },
        "outputId": "afa64131-fba1-4530-8228-fe7b23ad6065"
      },
      "source": [
        "print(x_train_raw.shape, y_train_raw.shape) #we will have to change categorical"
      ],
      "execution_count": 4,
      "outputs": [
        {
          "output_type": "stream",
          "text": [
            "(60000, 28, 28) (60000,)\n"
          ],
          "name": "stdout"
        }
      ]
    },
    {
      "cell_type": "code",
      "metadata": {
        "id": "WTa40NZdEc2G",
        "colab_type": "code",
        "colab": {}
      },
      "source": [
        "training_examples = 50000\n",
        "validation_examples = 10000\n",
        "testing_examples = y_test_raw.shape[0]"
      ],
      "execution_count": 0,
      "outputs": []
    },
    {
      "cell_type": "code",
      "metadata": {
        "id": "Dln722flEc2M",
        "colab_type": "code",
        "colab": {}
      },
      "source": [
        "#data normalization\n",
        "x_train_imd = x_train_raw/255\n",
        "x_test_imd = x_test_raw/255\n",
        "x_train_imd = x_train_imd.reshape(x_train_imd.shape[0],x_train_imd.shape[1],x_train_imd.shape[2],1)\n",
        "x_test_imd = x_test_imd.reshape(x_test_imd.shape[0],x_train_imd.shape[1],x_train_imd.shape[2],1)\n",
        "\n",
        "total_classes = 10 #number of digits\n",
        "y_train_imd = keras.utils.to_categorical(y_train_raw, total_classes)\n",
        "y_test_imd = keras.utils.to_categorical(y_test_raw, total_classes)"
      ],
      "execution_count": 0,
      "outputs": []
    },
    {
      "cell_type": "code",
      "metadata": {
        "id": "3yKXQKJHEc2Q",
        "colab_type": "code",
        "colab": {}
      },
      "source": [
        "def model():\n",
        "    model = Sequential()\n",
        "    model.add(Conv2D(32, (3,3), activation='relu', input_shape=(28,28,1) ))\n",
        "    model.add(Conv2D(32, (3, 3), activation='relu'))\n",
        "    model.add(MaxPooling2D((2, 2)))\n",
        "    model.add(Conv2D(16, (3, 3), activation='relu'))\n",
        "    model.add(Flatten())\n",
        "    model.add(Dense(32, activation='relu'))\n",
        "    model.add(Dense(total_classes, activation='softmax'))\n",
        "    model.compile(loss=keras.losses.categorical_crossentropy,\n",
        "                  optimizer=keras.optimizers.Adadelta(),\n",
        "                  metrics=['accuracy'])\n",
        "    return model"
      ],
      "execution_count": 0,
      "outputs": []
    },
    {
      "cell_type": "code",
      "metadata": {
        "id": "XeMB9OjYEc2T",
        "colab_type": "code",
        "colab": {}
      },
      "source": [
        "def get_correct_data():\n",
        "    permutation = np.random.permutation(x_train_imd.shape[0])\n",
        "    \n",
        "    X_train_, X_valid_ = x_train_imd[:training_examples], x_train_imd[training_examples:]\n",
        "    Y_train_, Y_valid_ = y_train_imd[:training_examples], y_train_imd[training_examples:]\n",
        "    \n",
        "    return( (X_train_, Y_train_), (X_valid_, Y_valid_), (x_test_imd, y_test_imd) )\n",
        "\n",
        "def get_random_data():\n",
        "    permutation = np.random.permutation(x_train_imd.shape[0])\n",
        "    \n",
        "    X_train_, X_valid_ = x_train_imd[:training_examples], x_train_imd[training_examples:]\n",
        "    Y_train_ = keras.utils.to_categorical( np.random.randint(total_classes, size=training_examples), total_classes )\n",
        "    Y_valid_ = keras.utils.to_categorical( np.random.randint(total_classes, size=validation_examples), total_classes )\n",
        "    Y_test_  = keras.utils.to_categorical( np.random.randint(total_classes, size=testing_examples), total_classes )\n",
        "\n",
        "    return( (X_train_, Y_train_), (X_valid_, Y_valid_), (x_test_imd, Y_test_) )"
      ],
      "execution_count": 0,
      "outputs": []
    },
    {
      "cell_type": "code",
      "metadata": {
        "id": "sWhIgqNaEc2W",
        "colab_type": "code",
        "colab": {
          "base_uri": "https://localhost:8080/",
          "height": 434
        },
        "outputId": "fc70e895-05f0-485c-f9ae-8e4c920a9c3d"
      },
      "source": [
        "(X_train, Y_train), (X_valid,Y_valid), (X_test,Y_test) = get_correct_data()\n",
        "model_correct = model()\n",
        "history_correct = model_correct.fit(X_train, Y_train, batch_size=128, epochs=10, \n",
        "                  validation_data=(X_valid,Y_valid))\n",
        "score = model_correct.evaluate(X_test,Y_test)\n",
        "print('Test loss:', score[0])\n",
        "print('Test accuracy:', score[1])"
      ],
      "execution_count": 9,
      "outputs": [
        {
          "output_type": "stream",
          "text": [
            "Train on 50000 samples, validate on 10000 samples\n",
            "Epoch 1/10\n",
            "50000/50000 [==============================] - 4s 80us/step - loss: 0.3223 - accuracy: 0.8989 - val_loss: 0.0962 - val_accuracy: 0.9720\n",
            "Epoch 2/10\n",
            "50000/50000 [==============================] - 2s 48us/step - loss: 0.0709 - accuracy: 0.9790 - val_loss: 0.0595 - val_accuracy: 0.9819\n",
            "Epoch 3/10\n",
            "50000/50000 [==============================] - 2s 48us/step - loss: 0.0478 - accuracy: 0.9856 - val_loss: 0.0467 - val_accuracy: 0.9856\n",
            "Epoch 4/10\n",
            "50000/50000 [==============================] - 2s 47us/step - loss: 0.0362 - accuracy: 0.9886 - val_loss: 0.0504 - val_accuracy: 0.9856\n",
            "Epoch 5/10\n",
            "50000/50000 [==============================] - 2s 48us/step - loss: 0.0283 - accuracy: 0.9909 - val_loss: 0.0456 - val_accuracy: 0.9874\n",
            "Epoch 6/10\n",
            "50000/50000 [==============================] - 2s 47us/step - loss: 0.0229 - accuracy: 0.9929 - val_loss: 0.0521 - val_accuracy: 0.9857\n",
            "Epoch 7/10\n",
            "50000/50000 [==============================] - 2s 48us/step - loss: 0.0183 - accuracy: 0.9944 - val_loss: 0.0439 - val_accuracy: 0.9879\n",
            "Epoch 8/10\n",
            "50000/50000 [==============================] - 2s 48us/step - loss: 0.0144 - accuracy: 0.9956 - val_loss: 0.0424 - val_accuracy: 0.9888\n",
            "Epoch 9/10\n",
            "50000/50000 [==============================] - 2s 48us/step - loss: 0.0121 - accuracy: 0.9961 - val_loss: 0.0519 - val_accuracy: 0.9872\n",
            "Epoch 10/10\n",
            "50000/50000 [==============================] - 2s 48us/step - loss: 0.0096 - accuracy: 0.9971 - val_loss: 0.0462 - val_accuracy: 0.9892\n",
            "10000/10000 [==============================] - 1s 61us/step\n",
            "Test loss: 0.043645035182862196\n",
            "Test accuracy: 0.9886000156402588\n"
          ],
          "name": "stdout"
        }
      ]
    },
    {
      "cell_type": "code",
      "metadata": {
        "id": "xjSEX9bHEc2b",
        "colab_type": "code",
        "colab": {
          "base_uri": "https://localhost:8080/",
          "height": 388
        },
        "outputId": "62f428c5-4e20-4c46-eafb-63ef68af2300"
      },
      "source": [
        "plt.figure(figsize=(8,6))\n",
        "loss = history_correct.history['loss']\n",
        "val_loss = history_correct.history['val_loss']\n",
        "plt.plot(range(1, len(loss)+1), loss, 'b', label='Training loss')\n",
        "plt.plot(range(1, len(val_loss)+1), val_loss, 'r', label='Validation loss')\n",
        "plt.xlabel('Epochs')\n",
        "plt.ylabel('Loss')\n",
        "plt.legend()\n",
        "plt.show()"
      ],
      "execution_count": 10,
      "outputs": [
        {
          "output_type": "display_data",
          "data": {
            "image/png": "[encoded data removed]",
            "text/plain": [
              "<Figure size 576x432 with 1 Axes>"
            ]
          },
          "metadata": {
            "tags": [],
            "needs_background": "light"
          }
        }
      ]
    },
    {
      "cell_type": "code",
      "metadata": {
        "id": "AlvwZ6nMEc2f",
        "colab_type": "code",
        "colab": {
          "base_uri": "https://localhost:8080/",
          "height": 388
        },
        "outputId": "db81fb86-abea-497d-b371-1245fc5c7154"
      },
      "source": [
        "plt.figure(figsize=(8,6))\n",
        "loss = history_correct.history['accuracy']\n",
        "val_loss = history_correct.history['val_accuracy']\n",
        "plt.plot(range(1, len(loss)+1), loss, 'b', label='Training Accuracy')\n",
        "plt.plot(range(1, len(val_loss)+1), val_loss, 'r', label='Validation Accuracy')\n",
        "plt.xlabel('Epochs')\n",
        "plt.ylabel('Accuracy')\n",
        "plt.legend()\n",
        "plt.show()"
      ],
      "execution_count": 11,
      "outputs": [
        {
          "output_type": "display_data",
          "data": {
            "image/png": "[encoded data removed]",
            "text/plain": [
              "<Figure size 576x432 with 1 Axes>"
            ]
          },
          "metadata": {
            "tags": [],
            "needs_background": "light"
          }
        }
      ]
    },
    {
      "cell_type": "code",
      "metadata": {
        "id": "8bI4qf2nEc2j",
        "colab_type": "code",
        "colab": {}
      },
      "source": [
        "(X_train, Y_train), (X_valid,Y_valid), (X_test,Y_test) = get_random_data()"
      ],
      "execution_count": 0,
      "outputs": []
    },
    {
      "cell_type": "code",
      "metadata": {
        "id": "kUBq0uGoEc2n",
        "colab_type": "code",
        "colab": {
          "base_uri": "https://localhost:8080/",
          "height": 1000
        },
        "outputId": "e1eba458-0d58-4485-8151-74a2f39150e1"
      },
      "source": [
        "for i in range(5):\n",
        "    plt.imshow(X_train[i][:,:,0])\n",
        "    plt.title(np.argmax(Y_train[i]))\n",
        "    plt.show()"
      ],
      "execution_count": 13,
      "outputs": [
        {
          "output_type": "display_data",
          "data": {
            "image/png": "[encoded data removed]",
            "text/plain": [
              "<Figure size 432x288 with 1 Axes>"
            ]
          },
          "metadata": {
            "tags": [],
            "needs_background": "light"
          }
        },
        {
          "output_type": "display_data",
          "data": {
            "image/png": "[encoded data removed]",
            "text/plain": [
              "<Figure size 432x288 with 1 Axes>"
            ]
          },
          "metadata": {
            "tags": [],
            "needs_background": "light"
          }
        },
        {
          "output_type": "display_data",
          "data": {
            "image/png": "[encoded data removed]",
            "text/plain": [
              "<Figure size 432x288 with 1 Axes>"
            ]
          },
          "metadata": {
            "tags": [],
            "needs_background": "light"
          }
        },
        {
          "output_type": "display_data",
          "data": {
            "image/png": "[encoded data removed]",
            "text/plain": [
              "<Figure size 432x288 with 1 Axes>"
            ]
          },
          "metadata": {
            "tags": [],
            "needs_background": "light"
          }
        },
        {
          "output_type": "display_data",
          "data": {
            "image/png": "[encoded data removed]",
            "text/plain": [
              "<Figure size 432x288 with 1 Axes>"
            ]
          },
          "metadata": {
            "tags": [],
            "needs_background": "light"
          }
        }
      ]
    },
    {
      "cell_type": "code",
      "metadata": {
        "id": "iUBHYyZGEc2q",
        "colab_type": "code",
        "colab": {
          "base_uri": "https://localhost:8080/",
          "height": 1000
        },
        "outputId": "0f6b444d-df9f-417c-fe87-ba85a9b0948a"
      },
      "source": [
        "model_random = model()\n",
        "history_random = model_random.fit(X_train, Y_train, batch_size=128, epochs=50, \n",
        "                  validation_data=(X_valid,Y_valid))\n",
        "score_random = model_random.evaluate(X_test,Y_test)\n",
        "print('Test loss:', score_random[0])\n",
        "print('Test accuracy:', score_random[1])"
      ],
      "execution_count": 14,
      "outputs": [
        {
          "output_type": "stream",
          "text": [
            "Train on 50000 samples, validate on 10000 samples\n",
            "Epoch 1/50\n",
            "50000/50000 [==============================] - 3s 52us/step - loss: 2.3030 - accuracy: 0.1008 - val_loss: 2.3028 - val_accuracy: 0.0982\n",
            "Epoch 2/50\n",
            "50000/50000 [==============================] - 2s 48us/step - loss: 2.3027 - accuracy: 0.1017 - val_loss: 2.3027 - val_accuracy: 0.1054\n",
            "Epoch 3/50\n",
            "50000/50000 [==============================] - 2s 48us/step - loss: 2.3027 - accuracy: 0.1002 - val_loss: 2.3026 - val_accuracy: 0.0995\n",
            "Epoch 4/50\n",
            "50000/50000 [==============================] - 2s 47us/step - loss: 2.3026 - accuracy: 0.1007 - val_loss: 2.3025 - val_accuracy: 0.1054\n",
            "Epoch 5/50\n",
            "50000/50000 [==============================] - 2s 48us/step - loss: 2.3024 - accuracy: 0.1041 - val_loss: 2.3026 - val_accuracy: 0.1010\n",
            "Epoch 6/50\n",
            "50000/50000 [==============================] - 2s 48us/step - loss: 2.3020 - accuracy: 0.1050 - val_loss: 2.3025 - val_accuracy: 0.0993\n",
            "Epoch 7/50\n",
            "50000/50000 [==============================] - 2s 48us/step - loss: 2.3013 - accuracy: 0.1078 - val_loss: 2.3033 - val_accuracy: 0.1001\n",
            "Epoch 8/50\n",
            "50000/50000 [==============================] - 2s 49us/step - loss: 2.3004 - accuracy: 0.1108 - val_loss: 2.3022 - val_accuracy: 0.1030\n",
            "Epoch 9/50\n",
            "50000/50000 [==============================] - 3s 50us/step - loss: 2.2990 - accuracy: 0.1125 - val_loss: 2.3038 - val_accuracy: 0.1040\n",
            "Epoch 10/50\n",
            "50000/50000 [==============================] - 3s 50us/step - loss: 2.2963 - accuracy: 0.1166 - val_loss: 2.3067 - val_accuracy: 0.1001\n",
            "Epoch 11/50\n",
            "50000/50000 [==============================] - 3s 51us/step - loss: 2.2928 - accuracy: 0.1234 - val_loss: 2.3109 - val_accuracy: 0.1014\n",
            "Epoch 12/50\n",
            "50000/50000 [==============================] - 2s 49us/step - loss: 2.2874 - accuracy: 0.1295 - val_loss: 2.3107 - val_accuracy: 0.0975\n",
            "Epoch 13/50\n",
            "50000/50000 [==============================] - 2s 47us/step - loss: 2.2801 - accuracy: 0.1368 - val_loss: 2.3185 - val_accuracy: 0.1008\n",
            "Epoch 14/50\n",
            "50000/50000 [==============================] - 2s 48us/step - loss: 2.2708 - accuracy: 0.1440 - val_loss: 2.3309 - val_accuracy: 0.0979\n",
            "Epoch 15/50\n",
            "50000/50000 [==============================] - 2s 48us/step - loss: 2.2605 - accuracy: 0.1520 - val_loss: 2.3471 - val_accuracy: 0.1027\n",
            "Epoch 16/50\n",
            "50000/50000 [==============================] - 2s 48us/step - loss: 2.2490 - accuracy: 0.1591 - val_loss: 2.3497 - val_accuracy: 0.0955\n",
            "Epoch 17/50\n",
            "50000/50000 [==============================] - 2s 47us/step - loss: 2.2354 - accuracy: 0.1674 - val_loss: 2.3567 - val_accuracy: 0.0990\n",
            "Epoch 18/50\n",
            "50000/50000 [==============================] - 2s 47us/step - loss: 2.2220 - accuracy: 0.1753 - val_loss: 2.3797 - val_accuracy: 0.0954\n",
            "Epoch 19/50\n",
            "50000/50000 [==============================] - 2s 48us/step - loss: 2.2072 - accuracy: 0.1846 - val_loss: 2.3941 - val_accuracy: 0.1010\n",
            "Epoch 20/50\n",
            "50000/50000 [==============================] - 2s 47us/step - loss: 2.1926 - accuracy: 0.1919 - val_loss: 2.4288 - val_accuracy: 0.0951\n",
            "Epoch 21/50\n",
            "50000/50000 [==============================] - 2s 47us/step - loss: 2.1769 - accuracy: 0.1998 - val_loss: 2.4233 - val_accuracy: 0.0994\n",
            "Epoch 22/50\n",
            "50000/50000 [==============================] - 2s 47us/step - loss: 2.1617 - accuracy: 0.2056 - val_loss: 2.4607 - val_accuracy: 0.0994\n",
            "Epoch 23/50\n",
            "50000/50000 [==============================] - 2s 48us/step - loss: 2.1468 - accuracy: 0.2115 - val_loss: 2.4424 - val_accuracy: 0.0987\n",
            "Epoch 24/50\n",
            "50000/50000 [==============================] - 2s 47us/step - loss: 2.1318 - accuracy: 0.2184 - val_loss: 2.4865 - val_accuracy: 0.1004\n",
            "Epoch 25/50\n",
            "50000/50000 [==============================] - 2s 47us/step - loss: 2.1160 - accuracy: 0.2266 - val_loss: 2.4938 - val_accuracy: 0.1006\n",
            "Epoch 26/50\n",
            "50000/50000 [==============================] - 2s 48us/step - loss: 2.1034 - accuracy: 0.2332 - val_loss: 2.5090 - val_accuracy: 0.1040\n",
            "Epoch 27/50\n",
            "50000/50000 [==============================] - 2s 47us/step - loss: 2.0894 - accuracy: 0.2376 - val_loss: 2.5283 - val_accuracy: 0.1021\n",
            "Epoch 28/50\n",
            "50000/50000 [==============================] - 2s 48us/step - loss: 2.0747 - accuracy: 0.2425 - val_loss: 2.5566 - val_accuracy: 0.0999\n",
            "Epoch 29/50\n",
            "50000/50000 [==============================] - 2s 48us/step - loss: 2.0621 - accuracy: 0.2495 - val_loss: 2.5748 - val_accuracy: 0.1002\n",
            "Epoch 30/50\n",
            "50000/50000 [==============================] - 2s 49us/step - loss: 2.0487 - accuracy: 0.2558 - val_loss: 2.6059 - val_accuracy: 0.0999\n",
            "Epoch 31/50\n",
            "50000/50000 [==============================] - 2s 49us/step - loss: 2.0359 - accuracy: 0.2613 - val_loss: 2.5762 - val_accuracy: 0.0994\n",
            "Epoch 32/50\n",
            "50000/50000 [==============================] - 2s 48us/step - loss: 2.0238 - accuracy: 0.2650 - val_loss: 2.6056 - val_accuracy: 0.0980\n",
            "Epoch 33/50\n",
            "50000/50000 [==============================] - 2s 48us/step - loss: 2.0099 - accuracy: 0.2696 - val_loss: 2.6644 - val_accuracy: 0.1000\n",
            "Epoch 34/50\n",
            "50000/50000 [==============================] - 2s 48us/step - loss: 1.9977 - accuracy: 0.2750 - val_loss: 2.6744 - val_accuracy: 0.0991\n",
            "Epoch 35/50\n",
            "50000/50000 [==============================] - 2s 48us/step - loss: 1.9839 - accuracy: 0.2788 - val_loss: 2.6454 - val_accuracy: 0.0990\n",
            "Epoch 36/50\n",
            "50000/50000 [==============================] - 2s 47us/step - loss: 1.9713 - accuracy: 0.2842 - val_loss: 2.7248 - val_accuracy: 0.0977\n",
            "Epoch 37/50\n",
            "50000/50000 [==============================] - 2s 48us/step - loss: 1.9599 - accuracy: 0.2889 - val_loss: 2.7147 - val_accuracy: 0.0973\n",
            "Epoch 38/50\n",
            "50000/50000 [==============================] - 2s 47us/step - loss: 1.9480 - accuracy: 0.2942 - val_loss: 2.7668 - val_accuracy: 0.1005\n",
            "Epoch 39/50\n",
            "50000/50000 [==============================] - 2s 47us/step - loss: 1.9376 - accuracy: 0.2976 - val_loss: 2.7780 - val_accuracy: 0.0963\n",
            "Epoch 40/50\n",
            "50000/50000 [==============================] - 2s 48us/step - loss: 1.9261 - accuracy: 0.3019 - val_loss: 2.7916 - val_accuracy: 0.0982\n",
            "Epoch 41/50\n",
            "50000/50000 [==============================] - 2s 48us/step - loss: 1.9150 - accuracy: 0.3047 - val_loss: 2.8238 - val_accuracy: 0.1004\n",
            "Epoch 42/50\n",
            "50000/50000 [==============================] - 2s 48us/step - loss: 1.9033 - accuracy: 0.3104 - val_loss: 2.8063 - val_accuracy: 0.1004\n",
            "Epoch 43/50\n",
            "50000/50000 [==============================] - 2s 48us/step - loss: 1.8930 - accuracy: 0.3131 - val_loss: 2.8683 - val_accuracy: 0.1002\n",
            "Epoch 44/50\n",
            "50000/50000 [==============================] - 2s 47us/step - loss: 1.8837 - accuracy: 0.3165 - val_loss: 2.8457 - val_accuracy: 0.0993\n",
            "Epoch 45/50\n",
            "50000/50000 [==============================] - 2s 48us/step - loss: 1.8743 - accuracy: 0.3223 - val_loss: 2.8989 - val_accuracy: 0.0982\n",
            "Epoch 46/50\n",
            "50000/50000 [==============================] - 2s 47us/step - loss: 1.8637 - accuracy: 0.3260 - val_loss: 2.9291 - val_accuracy: 0.1040\n",
            "Epoch 47/50\n",
            "50000/50000 [==============================] - 2s 48us/step - loss: 1.8543 - accuracy: 0.3268 - val_loss: 2.9143 - val_accuracy: 0.1005\n",
            "Epoch 48/50\n",
            "50000/50000 [==============================] - 2s 48us/step - loss: 1.8466 - accuracy: 0.3304 - val_loss: 2.9564 - val_accuracy: 0.0980\n",
            "Epoch 49/50\n",
            "50000/50000 [==============================] - 2s 47us/step - loss: 1.8360 - accuracy: 0.3344 - val_loss: 3.0141 - val_accuracy: 0.0999\n",
            "Epoch 50/50\n",
            "50000/50000 [==============================] - 2s 48us/step - loss: 1.8291 - accuracy: 0.3358 - val_loss: 3.0343 - val_accuracy: 0.1007\n",
            "10000/10000 [==============================] - 1s 59us/step\n",
            "Test loss: 2.97435542678833\n",
            "Test accuracy: 0.10289999842643738\n"
          ],
          "name": "stdout"
        }
      ]
    },
    {
      "cell_type": "code",
      "metadata": {
        "id": "CfI9XFnGEc2u",
        "colab_type": "code",
        "colab": {
          "base_uri": "https://localhost:8080/",
          "height": 388
        },
        "outputId": "589888d1-ec59-44b9-ef64-e2b794bc12ff"
      },
      "source": [
        "plt.figure(figsize=(8,6))\n",
        "loss = history_random.history['loss']\n",
        "val_loss = history_random.history['val_loss']\n",
        "plt.plot(range(1, len(loss)+1), loss, 'b', label='Training loss')\n",
        "plt.plot(range(1, len(val_loss)+1), val_loss, 'r', label='Validation loss')\n",
        "plt.xlabel('Epochs')\n",
        "plt.ylabel('Loss')\n",
        "plt.legend()\n",
        "plt.show()"
      ],
      "execution_count": 15,
      "outputs": [
        {
          "output_type": "display_data",
          "data": {
            "image/png": "[encoded data removed]",
            "text/plain": [
              "<Figure size 576x432 with 1 Axes>"
            ]
          },
          "metadata": {
            "tags": [],
            "needs_background": "light"
          }
        }
      ]
    },
    {
      "cell_type": "code",
      "metadata": {
        "id": "9KlCujrtEc2x",
        "colab_type": "code",
        "colab": {
          "base_uri": "https://localhost:8080/",
          "height": 388
        },
        "outputId": "54910428-470c-4291-f5b7-42a6c92ddd3f"
      },
      "source": [
        "plt.figure(figsize=(8,6))\n",
        "loss = history_random.history['accuracy']\n",
        "val_loss = history_random.history['val_accuracy']\n",
        "plt.plot(range(1, len(loss)+1), loss, 'b', label='Training Accuracy')\n",
        "plt.plot(range(1, len(val_loss)+1), val_loss, 'r', label='Validation Accuracy')\n",
        "plt.xlabel('Epochs')\n",
        "plt.ylabel('Accuracy')\n",
        "plt.legend()\n",
        "plt.show()"
      ],
      "execution_count": 16,
      "outputs": [
        {
          "output_type": "display_data",
          "data": {
            "image/png": "[encoded data removed]",
            "text/plain": [
              "<Figure size 576x432 with 1 Axes>"
            ]
          },
          "metadata": {
            "tags": [],
            "needs_background": "light"
          }
        }
      ]
    },
    {
      "cell_type": "markdown",
      "metadata": {
        "id": "2xVapr_lEc21",
        "colab_type": "text"
      },
      "source": [
        "#### Okay..we are getting there. This looks promising!!..but takes more iterations than usual suggesting it's easier to find patterns in structured data and that makes sense. Let's increase the size of the input network and run for around 100 iterations and see if we can achieve 99+% accuracy on the training data"
      ]
    },
    {
      "cell_type": "code",
      "metadata": {
        "id": "tb7sTottEc21",
        "colab_type": "code",
        "colab": {}
      },
      "source": [
        "def model_big():\n",
        "    model = Sequential()\n",
        "    model.add(Conv2D(128, (3,3), activation='relu', input_shape=(28,28,1) ))\n",
        "    model.add(Conv2D(128, (3, 3), activation='relu'))\n",
        "    model.add(MaxPooling2D((2, 2)))\n",
        "    model.add(Conv2D(128, (3, 3), activation='relu'))\n",
        "    model.add(Flatten())\n",
        "    model.add(Dense(128, activation='relu'))\n",
        "    model.add(Dense(total_classes, activation='softmax'))\n",
        "    model.compile(loss=keras.losses.categorical_crossentropy,\n",
        "                  optimizer=keras.optimizers.Adadelta(),\n",
        "                  metrics=['accuracy'])\n",
        "    return model"
      ],
      "execution_count": 0,
      "outputs": []
    },
    {
      "cell_type": "code",
      "metadata": {
        "id": "Qd7IQB1gEc24",
        "colab_type": "code",
        "colab": {
          "base_uri": "https://localhost:8080/",
          "height": 434
        },
        "outputId": "db390769-f691-4ff7-e862-c51515c1af3e"
      },
      "source": [
        "(X_train, Y_train), (X_valid,Y_valid), (X_test,Y_test) = get_correct_data()\n",
        "model_correct_big = model_big()\n",
        "history_correct_big = model_correct_big.fit(X_train, Y_train, batch_size=128, epochs=10,\n",
        "                  validation_data=(X_valid,Y_valid))\n",
        "score = model_correct_big.evaluate(X_test,Y_test)\n",
        "print('Test loss:', score[0])\n",
        "print('Test accuracy:', score[1])"
      ],
      "execution_count": 18,
      "outputs": [
        {
          "output_type": "stream",
          "text": [
            "Train on 50000 samples, validate on 10000 samples\n",
            "Epoch 1/10\n",
            "50000/50000 [==============================] - 6s 112us/step - loss: 0.2031 - accuracy: 0.9373 - val_loss: 0.0568 - val_accuracy: 0.9853\n",
            "Epoch 2/10\n",
            "50000/50000 [==============================] - 5s 106us/step - loss: 0.0442 - accuracy: 0.9864 - val_loss: 0.0495 - val_accuracy: 0.9873\n",
            "Epoch 3/10\n",
            "50000/50000 [==============================] - 5s 106us/step - loss: 0.0276 - accuracy: 0.9917 - val_loss: 0.0384 - val_accuracy: 0.9890\n",
            "Epoch 4/10\n",
            "50000/50000 [==============================] - 5s 105us/step - loss: 0.0174 - accuracy: 0.9946 - val_loss: 0.0423 - val_accuracy: 0.9890\n",
            "Epoch 5/10\n",
            "50000/50000 [==============================] - 5s 106us/step - loss: 0.0118 - accuracy: 0.9962 - val_loss: 0.0369 - val_accuracy: 0.9911\n",
            "Epoch 6/10\n",
            "50000/50000 [==============================] - 5s 105us/step - loss: 0.0071 - accuracy: 0.9978 - val_loss: 0.0388 - val_accuracy: 0.9908\n",
            "Epoch 7/10\n",
            "50000/50000 [==============================] - 5s 105us/step - loss: 0.0055 - accuracy: 0.9982 - val_loss: 0.0392 - val_accuracy: 0.9905\n",
            "Epoch 8/10\n",
            "50000/50000 [==============================] - 5s 106us/step - loss: 0.0025 - accuracy: 0.9993 - val_loss: 0.0648 - val_accuracy: 0.9902\n",
            "Epoch 9/10\n",
            "50000/50000 [==============================] - 5s 105us/step - loss: 0.0027 - accuracy: 0.9990 - val_loss: 0.0445 - val_accuracy: 0.9916\n",
            "Epoch 10/10\n",
            "50000/50000 [==============================] - 5s 105us/step - loss: 0.0014 - accuracy: 0.9996 - val_loss: 0.0546 - val_accuracy: 0.9908\n",
            "10000/10000 [==============================] - 1s 83us/step\n",
            "Test loss: 0.040329250969347745\n",
            "Test accuracy: 0.9925000071525574\n"
          ],
          "name": "stdout"
        }
      ]
    },
    {
      "cell_type": "code",
      "metadata": {
        "id": "eTe4y-WrEc27",
        "colab_type": "code",
        "colab": {
          "base_uri": "https://localhost:8080/",
          "height": 388
        },
        "outputId": "15d261e3-247f-43bd-820b-2eeb40092a80"
      },
      "source": [
        "plt.figure(figsize=(8,6))\n",
        "loss = history_correct_big.history['loss']\n",
        "val_loss = history_correct_big.history['val_loss']\n",
        "plt.plot(range(1, len(loss)+1), loss, 'b', label='Training loss')\n",
        "plt.plot(range(1, len(val_loss)+1), val_loss, 'r', label='Validation loss')\n",
        "plt.xlabel('Epochs')\n",
        "plt.ylabel('Loss')\n",
        "plt.legend()\n",
        "plt.show()"
      ],
      "execution_count": 19,
      "outputs": [
        {
          "output_type": "display_data",
          "data": {
            "image/png": "[encoded data removed]",
            "text/plain": [
              "<Figure size 576x432 with 1 Axes>"
            ]
          },
          "metadata": {
            "tags": [],
            "needs_background": "light"
          }
        }
      ]
    },
    {
      "cell_type": "code",
      "metadata": {
        "id": "KRQ2RwKNEc2-",
        "colab_type": "code",
        "colab": {
          "base_uri": "https://localhost:8080/",
          "height": 1000
        },
        "outputId": "c4979ab4-883e-4030-be3b-64710ac72779"
      },
      "source": [
        "(X_train, Y_train), (X_valid,Y_valid), (X_test,Y_test) = get_random_data()\n",
        "model_random_big = model_big()\n",
        "history_random_big = model_random_big.fit(X_train, Y_train, batch_size=128, epochs=60, # more iterations \n",
        "                  validation_data=(X_valid,Y_valid))\n",
        "score_random = model_random_big.evaluate(X_test,Y_test)\n",
        "print('Test loss:', score_random[0])\n",
        "print('Test accuracy:', score_random[1])"
      ],
      "execution_count": 20,
      "outputs": [
        {
          "output_type": "stream",
          "text": [
            "Train on 50000 samples, validate on 10000 samples\n",
            "Epoch 1/60\n",
            "50000/50000 [==============================] - 5s 110us/step - loss: 2.3030 - accuracy: 0.1012 - val_loss: 2.3025 - val_accuracy: 0.1027\n",
            "Epoch 2/60\n",
            "50000/50000 [==============================] - 5s 105us/step - loss: 2.3028 - accuracy: 0.1003 - val_loss: 2.3024 - val_accuracy: 0.1007\n",
            "Epoch 3/60\n",
            "50000/50000 [==============================] - 5s 105us/step - loss: 2.3026 - accuracy: 0.1038 - val_loss: 2.3028 - val_accuracy: 0.1027\n",
            "Epoch 4/60\n",
            "50000/50000 [==============================] - 5s 106us/step - loss: 2.3025 - accuracy: 0.1036 - val_loss: 2.3031 - val_accuracy: 0.0955\n",
            "Epoch 5/60\n",
            "50000/50000 [==============================] - 5s 105us/step - loss: 2.3020 - accuracy: 0.1065 - val_loss: 2.3034 - val_accuracy: 0.1016\n",
            "Epoch 6/60\n",
            "50000/50000 [==============================] - 5s 106us/step - loss: 2.3008 - accuracy: 0.1118 - val_loss: 2.3037 - val_accuracy: 0.0991\n",
            "Epoch 7/60\n",
            "50000/50000 [==============================] - 5s 106us/step - loss: 2.2986 - accuracy: 0.1158 - val_loss: 2.3052 - val_accuracy: 0.1002\n",
            "Epoch 8/60\n",
            "50000/50000 [==============================] - 5s 105us/step - loss: 2.2947 - accuracy: 0.1230 - val_loss: 2.3116 - val_accuracy: 0.1019\n",
            "Epoch 9/60\n",
            "50000/50000 [==============================] - 5s 108us/step - loss: 2.2874 - accuracy: 0.1308 - val_loss: 2.3158 - val_accuracy: 0.1002\n",
            "Epoch 10/60\n",
            "50000/50000 [==============================] - 5s 109us/step - loss: 2.2733 - accuracy: 0.1430 - val_loss: 2.3287 - val_accuracy: 0.0992\n",
            "Epoch 11/60\n",
            "50000/50000 [==============================] - 5s 106us/step - loss: 2.2450 - accuracy: 0.1641 - val_loss: 2.3734 - val_accuracy: 0.0996\n",
            "Epoch 12/60\n",
            "50000/50000 [==============================] - 5s 106us/step - loss: 2.1951 - accuracy: 0.1936 - val_loss: 2.4093 - val_accuracy: 0.1021\n",
            "Epoch 13/60\n",
            "50000/50000 [==============================] - 5s 105us/step - loss: 2.1024 - accuracy: 0.2389 - val_loss: 2.4900 - val_accuracy: 0.1031\n",
            "Epoch 14/60\n",
            "50000/50000 [==============================] - 5s 106us/step - loss: 1.9465 - accuracy: 0.3092 - val_loss: 2.6671 - val_accuracy: 0.0975\n",
            "Epoch 15/60\n",
            "50000/50000 [==============================] - 5s 105us/step - loss: 1.7186 - accuracy: 0.3986 - val_loss: 2.9217 - val_accuracy: 0.0961\n",
            "Epoch 16/60\n",
            "50000/50000 [==============================] - 5s 105us/step - loss: 1.4325 - accuracy: 0.5049 - val_loss: 3.3990 - val_accuracy: 0.0963\n",
            "Epoch 17/60\n",
            "50000/50000 [==============================] - 5s 105us/step - loss: 1.1246 - accuracy: 0.6142 - val_loss: 3.9306 - val_accuracy: 0.1002\n",
            "Epoch 18/60\n",
            "50000/50000 [==============================] - 5s 108us/step - loss: 0.8470 - accuracy: 0.7118 - val_loss: 4.7828 - val_accuracy: 0.0951\n",
            "Epoch 19/60\n",
            "50000/50000 [==============================] - 5s 105us/step - loss: 0.6229 - accuracy: 0.7881 - val_loss: 5.7338 - val_accuracy: 0.0962\n",
            "Epoch 20/60\n",
            "50000/50000 [==============================] - 5s 106us/step - loss: 0.4522 - accuracy: 0.8475 - val_loss: 6.7906 - val_accuracy: 0.0966\n",
            "Epoch 21/60\n",
            "50000/50000 [==============================] - 5s 106us/step - loss: 0.3460 - accuracy: 0.8843 - val_loss: 8.0652 - val_accuracy: 0.1003\n",
            "Epoch 22/60\n",
            "50000/50000 [==============================] - 5s 106us/step - loss: 0.2688 - accuracy: 0.9092 - val_loss: 8.7823 - val_accuracy: 0.0986\n",
            "Epoch 23/60\n",
            "50000/50000 [==============================] - 5s 105us/step - loss: 0.2166 - accuracy: 0.9259 - val_loss: 9.9056 - val_accuracy: 0.0929\n",
            "Epoch 24/60\n",
            "50000/50000 [==============================] - 5s 105us/step - loss: 0.1734 - accuracy: 0.9414 - val_loss: 10.9573 - val_accuracy: 0.1026\n",
            "Epoch 25/60\n",
            "50000/50000 [==============================] - 5s 106us/step - loss: 0.1462 - accuracy: 0.9525 - val_loss: 11.2212 - val_accuracy: 0.1019\n",
            "Epoch 26/60\n",
            "50000/50000 [==============================] - 5s 106us/step - loss: 0.1273 - accuracy: 0.9575 - val_loss: 12.6561 - val_accuracy: 0.0978\n",
            "Epoch 27/60\n",
            "50000/50000 [==============================] - 5s 106us/step - loss: 0.1096 - accuracy: 0.9636 - val_loss: 13.2122 - val_accuracy: 0.0980\n",
            "Epoch 28/60\n",
            "50000/50000 [==============================] - 5s 105us/step - loss: 0.0991 - accuracy: 0.9667 - val_loss: 13.6713 - val_accuracy: 0.0951\n",
            "Epoch 29/60\n",
            "50000/50000 [==============================] - 5s 105us/step - loss: 0.0860 - accuracy: 0.9716 - val_loss: 14.2560 - val_accuracy: 0.0990\n",
            "Epoch 30/60\n",
            "50000/50000 [==============================] - 5s 105us/step - loss: 0.0739 - accuracy: 0.9758 - val_loss: 14.6550 - val_accuracy: 0.0989\n",
            "Epoch 31/60\n",
            "50000/50000 [==============================] - 5s 106us/step - loss: 0.0682 - accuracy: 0.9778 - val_loss: 15.2599 - val_accuracy: 0.0981\n",
            "Epoch 32/60\n",
            "50000/50000 [==============================] - 5s 105us/step - loss: 0.0623 - accuracy: 0.9805 - val_loss: 16.4336 - val_accuracy: 0.0983\n",
            "Epoch 33/60\n",
            "50000/50000 [==============================] - 5s 107us/step - loss: 0.0582 - accuracy: 0.9813 - val_loss: 16.7233 - val_accuracy: 0.0962\n",
            "Epoch 34/60\n",
            "50000/50000 [==============================] - 5s 105us/step - loss: 0.0515 - accuracy: 0.9834 - val_loss: 16.6075 - val_accuracy: 0.1024\n",
            "Epoch 35/60\n",
            "50000/50000 [==============================] - 5s 106us/step - loss: 0.0509 - accuracy: 0.9833 - val_loss: 16.7220 - val_accuracy: 0.0975\n",
            "Epoch 36/60\n",
            "50000/50000 [==============================] - 5s 105us/step - loss: 0.0432 - accuracy: 0.9861 - val_loss: 17.7413 - val_accuracy: 0.1011\n",
            "Epoch 37/60\n",
            "50000/50000 [==============================] - 5s 107us/step - loss: 0.0406 - accuracy: 0.9871 - val_loss: 18.5039 - val_accuracy: 0.1027\n",
            "Epoch 38/60\n",
            "50000/50000 [==============================] - 5s 106us/step - loss: 0.0347 - accuracy: 0.9891 - val_loss: 18.0112 - val_accuracy: 0.1002\n",
            "Epoch 39/60\n",
            "50000/50000 [==============================] - 5s 105us/step - loss: 0.0362 - accuracy: 0.9886 - val_loss: 19.1177 - val_accuracy: 0.1005\n",
            "Epoch 40/60\n",
            "50000/50000 [==============================] - 5s 105us/step - loss: 0.0320 - accuracy: 0.9897 - val_loss: 19.3626 - val_accuracy: 0.1016\n",
            "Epoch 41/60\n",
            "50000/50000 [==============================] - 5s 106us/step - loss: 0.0286 - accuracy: 0.9917 - val_loss: 19.4876 - val_accuracy: 0.0985\n",
            "Epoch 42/60\n",
            "50000/50000 [==============================] - 5s 107us/step - loss: 0.0299 - accuracy: 0.9908 - val_loss: 19.0678 - val_accuracy: 0.1034\n",
            "Epoch 43/60\n",
            "50000/50000 [==============================] - 5s 107us/step - loss: 0.0262 - accuracy: 0.9919 - val_loss: 20.2377 - val_accuracy: 0.1007\n",
            "Epoch 44/60\n",
            "50000/50000 [==============================] - 5s 107us/step - loss: 0.0239 - accuracy: 0.9920 - val_loss: 20.7148 - val_accuracy: 0.0987\n",
            "Epoch 45/60\n",
            "50000/50000 [==============================] - 5s 107us/step - loss: 0.0269 - accuracy: 0.9917 - val_loss: 21.0357 - val_accuracy: 0.0967\n",
            "Epoch 46/60\n",
            "50000/50000 [==============================] - 5s 108us/step - loss: 0.0235 - accuracy: 0.9923 - val_loss: 21.3509 - val_accuracy: 0.0956\n",
            "Epoch 47/60\n",
            "50000/50000 [==============================] - 5s 107us/step - loss: 0.0207 - accuracy: 0.9936 - val_loss: 20.5192 - val_accuracy: 0.0968\n",
            "Epoch 48/60\n",
            "50000/50000 [==============================] - 5s 107us/step - loss: 0.0225 - accuracy: 0.9933 - val_loss: 20.8214 - val_accuracy: 0.0965\n",
            "Epoch 49/60\n",
            "50000/50000 [==============================] - 5s 108us/step - loss: 0.0219 - accuracy: 0.9932 - val_loss: 21.4780 - val_accuracy: 0.0953\n",
            "Epoch 50/60\n",
            "50000/50000 [==============================] - 5s 106us/step - loss: 0.0153 - accuracy: 0.9951 - val_loss: 22.0405 - val_accuracy: 0.0988\n",
            "Epoch 51/60\n",
            "50000/50000 [==============================] - 5s 106us/step - loss: 0.0188 - accuracy: 0.9943 - val_loss: 22.1266 - val_accuracy: 0.0965\n",
            "Epoch 52/60\n",
            "50000/50000 [==============================] - 5s 107us/step - loss: 0.0161 - accuracy: 0.9948 - val_loss: 22.6398 - val_accuracy: 0.0967\n",
            "Epoch 53/60\n",
            "50000/50000 [==============================] - 5s 107us/step - loss: 0.0158 - accuracy: 0.9957 - val_loss: 22.8789 - val_accuracy: 0.0987\n",
            "Epoch 54/60\n",
            "50000/50000 [==============================] - 5s 106us/step - loss: 0.0135 - accuracy: 0.9959 - val_loss: 23.1197 - val_accuracy: 0.1022\n",
            "Epoch 55/60\n",
            "50000/50000 [==============================] - 5s 106us/step - loss: 0.0125 - accuracy: 0.9960 - val_loss: 23.4690 - val_accuracy: 0.0985\n",
            "Epoch 56/60\n",
            "50000/50000 [==============================] - 5s 107us/step - loss: 0.0101 - accuracy: 0.9969 - val_loss: 23.7776 - val_accuracy: 0.0991\n",
            "Epoch 57/60\n",
            "50000/50000 [==============================] - 5s 107us/step - loss: 0.0134 - accuracy: 0.9961 - val_loss: 23.7822 - val_accuracy: 0.1008\n",
            "Epoch 58/60\n",
            "50000/50000 [==============================] - 5s 106us/step - loss: 0.0111 - accuracy: 0.9968 - val_loss: 23.6534 - val_accuracy: 0.0994\n",
            "Epoch 59/60\n",
            "50000/50000 [==============================] - 5s 107us/step - loss: 0.0164 - accuracy: 0.9949 - val_loss: 23.9188 - val_accuracy: 0.0983\n",
            "Epoch 60/60\n",
            "50000/50000 [==============================] - 5s 107us/step - loss: 0.0125 - accuracy: 0.9960 - val_loss: 23.8486 - val_accuracy: 0.0941\n",
            "10000/10000 [==============================] - 1s 81us/step\n",
            "Test loss: 23.888403924560546\n",
            "Test accuracy: 0.10639999806880951\n"
          ],
          "name": "stdout"
        }
      ]
    },
    {
      "cell_type": "code",
      "metadata": {
        "id": "YPNw-6bPEc3B",
        "colab_type": "code",
        "colab": {
          "base_uri": "https://localhost:8080/",
          "height": 391
        },
        "outputId": "2eab8f92-4a9d-4833-86e8-6662674e76e0"
      },
      "source": [
        "plt.figure(figsize=(8,6))\n",
        "loss = history_random_big.history['loss']\n",
        "val_loss = history_random_big.history['val_loss']\n",
        "plt.plot(range(1, len(loss)+1), loss, 'b', label='Training loss')\n",
        "plt.plot(range(1, len(val_loss)+1), val_loss, 'r', label='Validation loss')\n",
        "plt.xlabel('Epochs')\n",
        "plt.ylabel('Loss')\n",
        "plt.legend()\n",
        "plt.show()"
      ],
      "execution_count": 21,
      "outputs": [
        {
          "output_type": "display_data",
          "data": {
            "image/png": "[encoded data removed]",
            "text/plain": [
              "<Figure size 576x432 with 1 Axes>"
            ]
          },
          "metadata": {
            "tags": [],
            "needs_background": "light"
          }
        }
      ]
    },
    {
      "cell_type": "markdown",
      "metadata": {
        "id": "DBTmPkVHLkAy",
        "colab_type": "text"
      },
      "source": [
        "#### So what do we learn? Neural networks are well equipped to achieve good accuracy on randomly labelled data too, as the aim of network is to learn and generate best predictions for TRAINING data. Due to lack of structure in randomly labelled data, we see poor accuracy ( and increasing loss as we go ahead with iterations ) for validation data and testing data! This can be explained by lack of structure in the randomly labelled data and power of neural networks to achieve good accuracy on all such datasets too. This also signifies importance of using validation and testing data as well to have a more generalized model rather than one that overfits training data heavily!"
      ]
    },
    {
      "cell_type": "code",
      "metadata": {
        "id": "i4Md6k-iMY99",
        "colab_type": "code",
        "colab": {}
      },
      "source": [
        ""
      ],
      "execution_count": 0,
      "outputs": []
    }
  ]
}