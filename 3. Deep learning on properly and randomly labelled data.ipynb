{
 "cells": [
  {
   "cell_type": "markdown",
   "metadata": {},
   "source": [
    "### We are going to train neural networks on properly labelled data as well as data randomly labelled! From what I understand about neural network, if network is appropriately big enough, network would learn a mapping for that data too! However, given the lack of structure in how the labels are assigned, we want to poke upon if there is different in convergence timings for both datasets!"
   ]
  },
  {
   "cell_type": "code",
   "execution_count": 1,
   "metadata": {},
   "outputs": [
    {
     "name": "stderr",
     "output_type": "stream",
     "text": [
      "Using TensorFlow backend.\n"
     ]
    }
   ],
   "source": [
    "%matplotlib inline\n",
    "\n",
    "import os\n",
    "import numpy as np\n",
    "from PIL import Image  \n",
    "from keras import models,layers\n",
    "import matplotlib.pyplot as plt"
   ]
  },
  {
   "cell_type": "code",
   "execution_count": 2,
   "metadata": {},
   "outputs": [],
   "source": [
    "RAW_PATH = '/Users/gursharan/Desktop/cat-and-dog/'"
   ]
  },
  {
   "cell_type": "code",
   "execution_count": 3,
   "metadata": {},
   "outputs": [],
   "source": [
    "CAT_PATH = os.path.join(RAW_PATH,'cats')\n",
    "DOG_PATH = os.path.join(RAW_PATH,'dogs')"
   ]
  },
  {
   "cell_type": "code",
   "execution_count": 4,
   "metadata": {},
   "outputs": [],
   "source": [
    "cat_images = []\n",
    "dog_images = []\n",
    "\n",
    "total_per_category_image = 400\n",
    "input_size = (256,256)\n",
    "total_examples = total_per_category_image * 2\n",
    "total_train = int(total_examples*0.6)\n",
    "total_valid = int(total_examples*0.2)\n",
    "total_test  = int(total_examples*0.2)\n",
    "\n",
    "count = 0\n",
    "for index,imagepath in enumerate(os.listdir(CAT_PATH)):\n",
    "    if not 'jpg' in imagepath:\n",
    "        continue\n",
    "    cat_img = Image.open(os.path.join(CAT_PATH, imagepath))\n",
    "    cat_img = cat_img.resize(input_size)\n",
    "    cat_images.append( np.array( cat_img ) )\n",
    "    if count == total_per_category_image:\n",
    "        break\n",
    "\n",
    "count = 0\n",
    "for index,imagepath in enumerate(os.listdir(DOG_PATH)):\n",
    "    if not 'jpg' in imagepath:\n",
    "        continue\n",
    "    dog_img = Image.open(os.path.join(DOG_PATH, imagepath))\n",
    "    dog_img = dog_img.resize(input_size)\n",
    "    dog_images.append( np.array( dog_img ) )\n",
    "    count = count + 1\n",
    "    if count == total_per_category_image:\n",
    "        break"
   ]
  },
  {
   "cell_type": "code",
   "execution_count": 10,
   "metadata": {},
   "outputs": [],
   "source": [
    "def model():\n",
    "    model = models.Sequential()\n",
    "    model.add( layers.Conv2D(128, 5, input_shape=(256,256,3)))\n",
    "    model.add( layers.Conv2D(64, 3))\n",
    "    model.add( layers.Flatten())\n",
    "    model.add( layers.Dense(32))\n",
    "    model.add( layers.Dense(1, activation='sigmoid') )\n",
    "    model.compile( optimizer='rmsprop', loss='binary_crossentropy' )\n",
    "    return model"
   ]
  },
  {
   "cell_type": "code",
   "execution_count": 11,
   "metadata": {},
   "outputs": [],
   "source": [
    "def get_correct_data():\n",
    "    X = []\n",
    "    Y = []\n",
    "    for cat in cat_images:\n",
    "        X.append(cat)\n",
    "        Y.append(0) #0 for cat\n",
    "    for dog in dog_images:\n",
    "        X.append(dog)\n",
    "        Y.append(1) #1 for dog\n",
    "    permutation = np.random.permutation(2*total_per_category_image)\n",
    "    X = np.array(X)[permutation]\n",
    "    Y = np.array(Y)[permutation]\n",
    "    \n",
    "    X_train, X_valid, X_test = X[:total_train], X[total_train:total_train+total_valid], X[total_train+total_valid:]\n",
    "    Y_train, Y_valid, Y_test = Y[:total_train], Y[total_train:total_train+total_valid], Y[total_train+total_valid:]\n",
    "    \n",
    "    return( (X_train, Y_train), (X_valid,Y_valid), (X_test,Y_test) )\n",
    "\n",
    "def get_random_data():\n",
    "    X = []\n",
    "    Y = []\n",
    "    for cat in cat_images:\n",
    "        X.append(cat)\n",
    "        Y.append(np.random.randint(2))\n",
    "    for dog in dog_images:\n",
    "        X.append(dog)\n",
    "        Y.append(np.random.randint(2))\n",
    "    \n",
    "    permutation = np.random.permutation(2*total_per_category_image)\n",
    "    X = np.array(X)[permutation]\n",
    "    Y = np.array(Y)[permutation]\n",
    "    \n",
    "    X_train, X_valid, X_test = X[:total_train], X[total_train:total_train+total_valid], X[total_train+total_valid:]\n",
    "    Y_train, Y_valid, Y_test = Y[:total_train], Y[total_train:total_train+total_valid], Y[total_train+total_valid:]\n",
    "        \n",
    "    return( (X_train, Y_train), (X_valid,Y_valid), (X_test,Y_test) )"
   ]
  },
  {
   "cell_type": "code",
   "execution_count": null,
   "metadata": {},
   "outputs": [],
   "source": [
    "(X_train, Y_train), (X_valid,Y_valid), (X_test,Y_test) = get_correct_data()\n",
    "model_correct = model()\n",
    "history_correct = model_correct.fit(X_train, Y_train, batch_size=32, epochs=10, \n",
    "                  validation_data=(X_valid,Y_valid))\n",
    "evaluation = model_correct.evaluate(X_test,Y_test)\n",
    "print('Evaluation on test data is :', evaluation)"
   ]
  },
  {
   "cell_type": "code",
   "execution_count": null,
   "metadata": {},
   "outputs": [],
   "source": [
    "(X_train, Y_train), (X_valid,Y_valid), (X_test,Y_test) = get_random_data()\n",
    "model_random = model()\n",
    "history_random = model_random.fit(X_train, Y_train, batch_size=32, epochs=20, \n",
    "                  validation_data=(X_valid,Y_valid))\n",
    "evaluation_random = model_random.evaluate(X_test,Y_test)\n",
    "print('Evaluation on test data is :', evaluation_random)"
   ]
  },
  {
   "cell_type": "code",
   "execution_count": null,
   "metadata": {},
   "outputs": [],
   "source": []
  }
 ],
 "metadata": {
  "kernelspec": {
   "display_name": "Python 3",
   "language": "python",
   "name": "python3"
  },
  "language_info": {
   "codemirror_mode": {
    "name": "ipython",
    "version": 3
   },
   "file_extension": ".py",
   "mimetype": "text/x-python",
   "name": "python",
   "nbconvert_exporter": "python",
   "pygments_lexer": "ipython3",
   "version": "3.7.3"
  }
 },
 "nbformat": 4,
 "nbformat_minor": 2
}
